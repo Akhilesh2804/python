{
 "cells": [
  {
   "cell_type": "markdown",
   "id": "021a31aa-4e9f-4458-8557-5645ab87e186",
   "metadata": {},
   "source": [
    "For"
   ]
  },
  {
   "cell_type": "markdown",
   "id": "1bb275d9-1e6b-46ce-94a7-216aaf097505",
   "metadata": {},
   "source": [
    "while"
   ]
  },
  {
   "cell_type": "code",
   "execution_count": 3,
   "id": "2d13a871-0cae-4431-a3b4-fe3137ebace6",
   "metadata": {},
   "outputs": [
    {
     "name": "stdout",
     "output_type": "stream",
     "text": [
      "data\n"
     ]
    }
   ],
   "source": [
    "print('data')"
   ]
  },
  {
   "cell_type": "code",
   "execution_count": 5,
   "id": "e72b55a9-4017-4fc2-b13f-13d35fe24e76",
   "metadata": {},
   "outputs": [],
   "source": [
    "x=5\n",
    "while x>10:\n",
    "    print('Yes')"
   ]
  },
  {
   "cell_type": "code",
   "execution_count": 7,
   "id": "b89b444a-903d-462e-aff2-833ac9779e46",
   "metadata": {},
   "outputs": [
    {
     "data": {
      "text/plain": [
       "5"
      ]
     },
     "execution_count": 7,
     "metadata": {},
     "output_type": "execute_result"
    }
   ],
   "source": [
    "x"
   ]
  },
  {
   "cell_type": "code",
   "execution_count": 17,
   "id": "553d0363-826c-49d4-9c6a-38204baeceae",
   "metadata": {},
   "outputs": [
    {
     "name": "stdout",
     "output_type": "stream",
     "text": [
      "Yes 5\n",
      "Yes 6\n",
      "Yes 7\n",
      "Yes 8\n",
      "Yes 9\n"
     ]
    }
   ],
   "source": [
    "x=5\n",
    "while x<10:\n",
    "    print('Yes',x)\n",
    "    x=x+1"
   ]
  },
  {
   "cell_type": "code",
   "execution_count": 21,
   "id": "52f2a4a0-4eea-4a14-a2d8-cceb3a1eafc2",
   "metadata": {},
   "outputs": [
    {
     "data": {
      "text/plain": [
       "[40, 20, 80, 50, 30, 60, 90]"
      ]
     },
     "execution_count": 21,
     "metadata": {},
     "output_type": "execute_result"
    }
   ],
   "source": [
    "y=[40,20,80,50,30,60,90]\n",
    "y"
   ]
  },
  {
   "cell_type": "code",
   "execution_count": 23,
   "id": "2163d503-53c8-47cd-ab92-8b605d3e1071",
   "metadata": {},
   "outputs": [
    {
     "data": {
      "text/plain": [
       "[40, 20, 80, 50, 30, 60, 90]"
      ]
     },
     "execution_count": 23,
     "metadata": {},
     "output_type": "execute_result"
    }
   ],
   "source": [
    "y"
   ]
  },
  {
   "cell_type": "code",
   "execution_count": 25,
   "id": "7d5ed543-3559-4dc3-82e4-2adc24d8408e",
   "metadata": {},
   "outputs": [
    {
     "name": "stdout",
     "output_type": "stream",
     "text": [
      "[40, 20, 80, 50, 30, 60, 90]\n"
     ]
    }
   ],
   "source": [
    "print(y)"
   ]
  },
  {
   "cell_type": "code",
   "execution_count": 27,
   "id": "5623f154-09ca-4235-866d-3949ec4f0605",
   "metadata": {},
   "outputs": [
    {
     "name": "stdout",
     "output_type": "stream",
     "text": [
      "3400\n",
      "1700\n",
      "6800\n",
      "4250\n",
      "2550\n",
      "5100\n",
      "7650\n"
     ]
    }
   ],
   "source": [
    "for t in y:\n",
    "    print(t*85)"
   ]
  },
  {
   "cell_type": "code",
   "execution_count": 31,
   "id": "15a62a88-e291-4a7c-9c30-c7b8f4e77c77",
   "metadata": {},
   "outputs": [
    {
     "name": "stdout",
     "output_type": "stream",
     "text": [
      "3410\n",
      "1710\n",
      "6810\n",
      "4260\n",
      "2560\n",
      "5110\n",
      "7660\n"
     ]
    }
   ],
   "source": [
    "for t in y:\n",
    "    print(t*85+10) "
   ]
  },
  {
   "cell_type": "code",
   "execution_count": 33,
   "id": "2dba50b9-91b7-4540-b5fb-dcaf988b3fa4",
   "metadata": {},
   "outputs": [
    {
     "name": "stdout",
     "output_type": "stream",
     "text": [
      "[3410, 1710, 6810, 4260, 2560, 5110, 7660]\n"
     ]
    }
   ],
   "source": [
    "y = [40,20,80,50,30,60,90]\n",
    "result = [t*85+10 for t in y]\n",
    "print(result)"
   ]
  },
  {
   "cell_type": "code",
   "execution_count": 59,
   "id": "1d081bfa-18e6-4429-865a-763b3737ecc8",
   "metadata": {},
   "outputs": [
    {
     "data": {
      "text/plain": [
       "[31, 42, 66, 38, 90, 78, 67, 87, 89, 96, 20, 59, 19, 81]"
      ]
     },
     "execution_count": 59,
     "metadata": {},
     "output_type": "execute_result"
    }
   ],
   "source": [
    "num=[31,42,66,38,90,78,67,87,89,96,20,59,19,81]\n",
    "num"
   ]
  },
  {
   "cell_type": "code",
   "execution_count": 61,
   "id": "ce04911a-f1b1-40be-8623-aad25f2990bc",
   "metadata": {},
   "outputs": [
    {
     "name": "stdout",
     "output_type": "stream",
     "text": [
      "[31, 67, 87, 89, 59, 19, 81]\n",
      "[42, 66, 38, 90, 78, 96, 20]\n"
     ]
    }
   ],
   "source": [
    "odd_num=[n for n in num if n%2!=0]\n",
    "even_num=[n for n in num if n%2==0]\n",
    "print(odd_num)\n",
    "print(even_num)"
   ]
  },
  {
   "cell_type": "code",
   "execution_count": 63,
   "id": "d9471c5a-4f51-4062-8d3d-af4c092fe18b",
   "metadata": {},
   "outputs": [
    {
     "data": {
      "text/plain": [
       "[31, 67, 87, 89, 59, 19, 81]"
      ]
     },
     "execution_count": 63,
     "metadata": {},
     "output_type": "execute_result"
    }
   ],
   "source": [
    "odd_num"
   ]
  },
  {
   "cell_type": "code",
   "execution_count": 65,
   "id": "203195f0-1c63-4a56-828c-e8599bc87ff9",
   "metadata": {},
   "outputs": [
    {
     "data": {
      "text/plain": [
       "[42, 66, 38, 90, 78, 96, 20]"
      ]
     },
     "execution_count": 65,
     "metadata": {},
     "output_type": "execute_result"
    }
   ],
   "source": [
    "even_num"
   ]
  },
  {
   "cell_type": "code",
   "execution_count": 80,
   "id": "905b9969-09b9-48f9-a6d4-d408199f955b",
   "metadata": {},
   "outputs": [
    {
     "data": {
      "text/plain": [
       "[31, 42, 66, 38, 90, 78, 67, 87, 89, 96, 20, 59, 19, 81]"
      ]
     },
     "execution_count": 80,
     "metadata": {},
     "output_type": "execute_result"
    }
   ],
   "source": [
    "num"
   ]
  },
  {
   "cell_type": "code",
   "execution_count": 88,
   "id": "59ca17c2-145d-42b4-b0ac-dc0d0f77be61",
   "metadata": {},
   "outputs": [],
   "source": [
    "h=[]\n",
    "for i in num: \n",
    "    a=str(i)\n",
    "    b=a.replace('8','5')\n",
    "    c=int(b)\n",
    "    h.append(c)"
   ]
  },
  {
   "cell_type": "code",
   "execution_count": 90,
   "id": "bc61e5be-2943-4b9d-bc26-83e48212e9f1",
   "metadata": {},
   "outputs": [
    {
     "data": {
      "text/plain": [
       "[31, 42, 66, 35, 90, 75, 67, 57, 59, 96, 20, 59, 19, 51]"
      ]
     },
     "execution_count": 90,
     "metadata": {},
     "output_type": "execute_result"
    }
   ],
   "source": [
    "h"
   ]
  },
  {
   "cell_type": "code",
   "execution_count": null,
   "id": "8558ff56-45ba-4440-a94c-b67d455e6805",
   "metadata": {},
   "outputs": [],
   "source": []
  },
  {
   "cell_type": "code",
   "execution_count": null,
   "id": "3d8063e5-808a-452d-accd-9dcb8ebebf43",
   "metadata": {},
   "outputs": [],
   "source": []
  },
  {
   "cell_type": "code",
   "execution_count": null,
   "id": "23e9f5e5-6ff9-4995-9cc0-54d640750f81",
   "metadata": {},
   "outputs": [],
   "source": []
  },
  {
   "cell_type": "code",
   "execution_count": null,
   "id": "79314045-44c4-4ce7-af02-5c3477805208",
   "metadata": {},
   "outputs": [],
   "source": []
  },
  {
   "cell_type": "code",
   "execution_count": null,
   "id": "f2ae4356-7da3-4619-b34a-a10e08b5625e",
   "metadata": {},
   "outputs": [],
   "source": []
  }
 ],
 "metadata": {
  "kernelspec": {
   "display_name": "Python [conda env:base] *",
   "language": "python",
   "name": "conda-base-py"
  },
  "language_info": {
   "codemirror_mode": {
    "name": "ipython",
    "version": 3
   },
   "file_extension": ".py",
   "mimetype": "text/x-python",
   "name": "python",
   "nbconvert_exporter": "python",
   "pygments_lexer": "ipython3",
   "version": "3.12.7"
  }
 },
 "nbformat": 4,
 "nbformat_minor": 5
}
