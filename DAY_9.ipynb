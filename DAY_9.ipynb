{
  "nbformat": 4,
  "nbformat_minor": 0,
  "metadata": {
    "colab": {
      "provenance": [],
      "authorship_tag": "ABX9TyN7RBAKLDUDdC1aeGh+yU8n",
      "include_colab_link": true
    },
    "kernelspec": {
      "name": "python3",
      "display_name": "Python 3"
    },
    "language_info": {
      "name": "python"
    }
  },
  "cells": [
    {
      "cell_type": "markdown",
      "metadata": {
        "id": "view-in-github",
        "colab_type": "text"
      },
      "source": [
        "<a href=\"https://colab.research.google.com/github/Akhilesh2804/python/blob/main/DAY_9.ipynb\" target=\"_parent\"><img src=\"https://colab.research.google.com/assets/colab-badge.svg\" alt=\"Open In Colab\"/></a>"
      ]
    },
    {
      "cell_type": "code",
      "execution_count": null,
      "metadata": {
        "id": "toSDKghgZqx1"
      },
      "outputs": [],
      "source": [
        "import numpy as np"
      ]
    },
    {
      "cell_type": "code",
      "source": [
        "j=[4,6,2,8,9]"
      ],
      "metadata": {
        "id": "s20XYnREZ3dU"
      },
      "execution_count": null,
      "outputs": []
    },
    {
      "cell_type": "code",
      "source": [
        "numpy array operations"
      ],
      "metadata": {
        "id": "4Sj7ODaBZ-mK"
      },
      "execution_count": null,
      "outputs": []
    },
    {
      "cell_type": "markdown",
      "source": [
        "1) numpy         array operations\n",
        "\n",
        "2) pandas        Data manipulation and analysis\n",
        "\n",
        "3) matplotib ans Seaborn  Graphical Analysis\n",
        "\n",
        "4) sklearn Machine learning algorithms and techniques\n",
        "\n",
        "5) statsmodels  statistical analysis\n",
        "\n",
        "6) scipy     statstical analysis"
      ],
      "metadata": {
        "id": "A7YyTH8Of6LI"
      }
    },
    {
      "cell_type": "code",
      "source": [
        "j=[5,7,2,8,4,7]\n",
        "j"
      ],
      "metadata": {
        "colab": {
          "base_uri": "https://localhost:8080/"
        },
        "id": "X3L6wnTMhNo4",
        "outputId": "5c6fe83a-3265-44d6-9d28-df0244c34ba6"
      },
      "execution_count": null,
      "outputs": [
        {
          "output_type": "execute_result",
          "data": {
            "text/plain": [
              "[5, 7, 2, 8, 4, 7]"
            ]
          },
          "metadata": {},
          "execution_count": 3
        }
      ]
    },
    {
      "cell_type": "code",
      "source": [
        "np.array(j)"
      ],
      "metadata": {
        "colab": {
          "base_uri": "https://localhost:8080/"
        },
        "id": "BqTbIG95hoZQ",
        "outputId": "78f52536-f439-409c-d943-9976173329a5"
      },
      "execution_count": null,
      "outputs": [
        {
          "output_type": "execute_result",
          "data": {
            "text/plain": [
              "array([5, 7, 2, 8, 4, 7])"
            ]
          },
          "metadata": {},
          "execution_count": 4
        }
      ]
    },
    {
      "cell_type": "code",
      "source": [
        "tuple(j)"
      ],
      "metadata": {
        "colab": {
          "base_uri": "https://localhost:8080/"
        },
        "id": "3cv-SOnnhsyv",
        "outputId": "14473753-ca6f-40ed-b2bc-e9d601b1149e"
      },
      "execution_count": null,
      "outputs": [
        {
          "output_type": "execute_result",
          "data": {
            "text/plain": [
              "(5, 7, 2, 8, 4, 7)"
            ]
          },
          "metadata": {},
          "execution_count": 5
        }
      ]
    },
    {
      "cell_type": "code",
      "source": [
        "d=np.array(j)\n",
        "d"
      ],
      "metadata": {
        "colab": {
          "base_uri": "https://localhost:8080/"
        },
        "id": "qmeF1I5Uh2QP",
        "outputId": "88125450-efdc-445e-9507-8e0302c8e682"
      },
      "execution_count": null,
      "outputs": [
        {
          "output_type": "execute_result",
          "data": {
            "text/plain": [
              "array([5, 7, 2, 8, 4, 7])"
            ]
          },
          "metadata": {},
          "execution_count": 6
        }
      ]
    },
    {
      "cell_type": "code",
      "source": [
        "type(d)"
      ],
      "metadata": {
        "colab": {
          "base_uri": "https://localhost:8080/"
        },
        "id": "8dkPzdgLiOB3",
        "outputId": "69457c6c-a4d9-4b9d-8188-135eae8b6fa7"
      },
      "execution_count": null,
      "outputs": [
        {
          "output_type": "execute_result",
          "data": {
            "text/plain": [
              "numpy.ndarray"
            ]
          },
          "metadata": {},
          "execution_count": 7
        }
      ]
    },
    {
      "cell_type": "code",
      "source": [
        "d"
      ],
      "metadata": {
        "colab": {
          "base_uri": "https://localhost:8080/"
        },
        "id": "SsllSaQCiS9n",
        "outputId": "d7de5346-afb2-4eea-dbc8-c151d70e5153"
      },
      "execution_count": null,
      "outputs": [
        {
          "output_type": "execute_result",
          "data": {
            "text/plain": [
              "array([5, 7, 2, 8, 4, 7])"
            ]
          },
          "metadata": {},
          "execution_count": 8
        }
      ]
    },
    {
      "cell_type": "code",
      "source": [
        "d.shape"
      ],
      "metadata": {
        "colab": {
          "base_uri": "https://localhost:8080/"
        },
        "id": "KBmxbETKicof",
        "outputId": "3a0679c9-2f23-4f98-eba6-871efa3c5115"
      },
      "execution_count": null,
      "outputs": [
        {
          "output_type": "execute_result",
          "data": {
            "text/plain": [
              "(6,)"
            ]
          },
          "metadata": {},
          "execution_count": 9
        }
      ]
    },
    {
      "cell_type": "code",
      "source": [
        "j"
      ],
      "metadata": {
        "colab": {
          "base_uri": "https://localhost:8080/"
        },
        "id": "0XnsC3nDizdH",
        "outputId": "ec22470f-b2a9-4ee2-aa69-10d8522ef25e"
      },
      "execution_count": null,
      "outputs": [
        {
          "output_type": "execute_result",
          "data": {
            "text/plain": [
              "[5, 7, 2, 8, 4, 7]"
            ]
          },
          "metadata": {},
          "execution_count": 10
        }
      ]
    },
    {
      "cell_type": "code",
      "source": [
        "d.ndim"
      ],
      "metadata": {
        "colab": {
          "base_uri": "https://localhost:8080/"
        },
        "id": "BNLH9eV0i2t_",
        "outputId": "4059a958-a391-4f53-fbe7-0ce344c6c8c5"
      },
      "execution_count": null,
      "outputs": [
        {
          "output_type": "execute_result",
          "data": {
            "text/plain": [
              "1"
            ]
          },
          "metadata": {},
          "execution_count": 11
        }
      ]
    },
    {
      "cell_type": "code",
      "source": [
        "j"
      ],
      "metadata": {
        "colab": {
          "base_uri": "https://localhost:8080/"
        },
        "id": "5fu6DoLNjSbn",
        "outputId": "47697d07-c3a1-4a5d-c55f-4ae63547fc8c"
      },
      "execution_count": null,
      "outputs": [
        {
          "output_type": "execute_result",
          "data": {
            "text/plain": [
              "[5, 7, 2, 8, 4, 7]"
            ]
          },
          "metadata": {},
          "execution_count": 13
        }
      ]
    },
    {
      "cell_type": "code",
      "source": [
        "d.size"
      ],
      "metadata": {
        "colab": {
          "base_uri": "https://localhost:8080/"
        },
        "id": "ar_DOouvjH5P",
        "outputId": "df515018-3828-4383-b792-5d3ec40fc038"
      },
      "execution_count": null,
      "outputs": [
        {
          "output_type": "execute_result",
          "data": {
            "text/plain": [
              "6"
            ]
          },
          "metadata": {},
          "execution_count": 12
        }
      ]
    },
    {
      "cell_type": "code",
      "source": [
        "d.reshape(2,3)"
      ],
      "metadata": {
        "colab": {
          "base_uri": "https://localhost:8080/"
        },
        "id": "3mde6qbvqRZO",
        "outputId": "ce230e74-3778-423b-8350-f4441a6b392f"
      },
      "execution_count": null,
      "outputs": [
        {
          "output_type": "execute_result",
          "data": {
            "text/plain": [
              "array([[5, 7, 2],\n",
              "       [8, 4, 7]])"
            ]
          },
          "metadata": {},
          "execution_count": 20
        }
      ]
    },
    {
      "cell_type": "code",
      "source": [
        "h=d.reshape(2,3)\n",
        "h"
      ],
      "metadata": {
        "colab": {
          "base_uri": "https://localhost:8080/"
        },
        "id": "TQM9x7e3qgHG",
        "outputId": "a29eb58f-a4ba-4c63-b867-377989cd8495"
      },
      "execution_count": null,
      "outputs": [
        {
          "output_type": "execute_result",
          "data": {
            "text/plain": [
              "array([[5, 7, 2],\n",
              "       [8, 4, 7]])"
            ]
          },
          "metadata": {},
          "execution_count": 21
        }
      ]
    },
    {
      "cell_type": "code",
      "source": [
        "h.size"
      ],
      "metadata": {
        "colab": {
          "base_uri": "https://localhost:8080/"
        },
        "id": "RCdWilb4qmt-",
        "outputId": "5fee4179-ec0c-4fad-f98a-3cdbcb3de4ff"
      },
      "execution_count": null,
      "outputs": [
        {
          "output_type": "execute_result",
          "data": {
            "text/plain": [
              "6"
            ]
          },
          "metadata": {},
          "execution_count": 22
        }
      ]
    },
    {
      "cell_type": "code",
      "source": [
        "h.shape"
      ],
      "metadata": {
        "colab": {
          "base_uri": "https://localhost:8080/"
        },
        "id": "z9rccFQFqpgn",
        "outputId": "ac3ddb3f-f34b-41b6-8372-4782ee0fa830"
      },
      "execution_count": null,
      "outputs": [
        {
          "output_type": "execute_result",
          "data": {
            "text/plain": [
              "(2, 3)"
            ]
          },
          "metadata": {},
          "execution_count": 23
        }
      ]
    },
    {
      "cell_type": "code",
      "source": [
        "h.ndim"
      ],
      "metadata": {
        "colab": {
          "base_uri": "https://localhost:8080/"
        },
        "id": "e3cdOyLirAav",
        "outputId": "0deb4608-d90c-4e3c-c2f4-47dc651a4fbf"
      },
      "execution_count": null,
      "outputs": [
        {
          "output_type": "execute_result",
          "data": {
            "text/plain": [
              "2"
            ]
          },
          "metadata": {},
          "execution_count": 25
        }
      ]
    },
    {
      "cell_type": "code",
      "source": [
        "w=d.reshape(3,2)\n",
        "w"
      ],
      "metadata": {
        "colab": {
          "base_uri": "https://localhost:8080/"
        },
        "id": "E8-gbi-nsaPm",
        "outputId": "1522b8f6-d1df-4da9-d691-508edf49d3d6"
      },
      "execution_count": null,
      "outputs": [
        {
          "output_type": "execute_result",
          "data": {
            "text/plain": [
              "array([[5, 7],\n",
              "       [2, 8],\n",
              "       [4, 7]])"
            ]
          },
          "metadata": {},
          "execution_count": 32
        }
      ]
    },
    {
      "cell_type": "code",
      "source": [
        "w.shape"
      ],
      "metadata": {
        "colab": {
          "base_uri": "https://localhost:8080/"
        },
        "id": "o-D5rhfksesG",
        "outputId": "2bd695c8-fa2d-467a-dfb1-025e9ef54b42"
      },
      "execution_count": null,
      "outputs": [
        {
          "output_type": "execute_result",
          "data": {
            "text/plain": [
              "(3, 2)"
            ]
          },
          "metadata": {},
          "execution_count": 29
        }
      ]
    },
    {
      "cell_type": "code",
      "source": [
        "w.size"
      ],
      "metadata": {
        "colab": {
          "base_uri": "https://localhost:8080/"
        },
        "id": "spmfN9xOsj5g",
        "outputId": "234440b9-6208-4b7f-ea62-bebc9cf6e842"
      },
      "execution_count": null,
      "outputs": [
        {
          "output_type": "execute_result",
          "data": {
            "text/plain": [
              "6"
            ]
          },
          "metadata": {},
          "execution_count": 30
        }
      ]
    },
    {
      "cell_type": "code",
      "source": [
        "w.ndim"
      ],
      "metadata": {
        "colab": {
          "base_uri": "https://localhost:8080/"
        },
        "id": "1FXXs7bMsmce",
        "outputId": "7abb4685-b5c2-433e-c039-30ff3dd56aea"
      },
      "execution_count": null,
      "outputs": [
        {
          "output_type": "execute_result",
          "data": {
            "text/plain": [
              "2"
            ]
          },
          "metadata": {},
          "execution_count": 31
        }
      ]
    },
    {
      "cell_type": "code",
      "source": [
        "d"
      ],
      "metadata": {
        "colab": {
          "base_uri": "https://localhost:8080/"
        },
        "id": "KHOdFDekqse-",
        "outputId": "373c12c8-48f0-42ce-eabc-8f6c30cd8dfd"
      },
      "execution_count": null,
      "outputs": [
        {
          "output_type": "execute_result",
          "data": {
            "text/plain": [
              "array([5, 7, 2, 8, 4, 7])"
            ]
          },
          "metadata": {},
          "execution_count": 24
        }
      ]
    },
    {
      "cell_type": "code",
      "source": [
        "d.ndim"
      ],
      "metadata": {
        "colab": {
          "base_uri": "https://localhost:8080/"
        },
        "id": "upR_YQRbtGxC",
        "outputId": "00b07efe-4a8d-4751-9b77-6d6ef44d03e2"
      },
      "execution_count": null,
      "outputs": [
        {
          "output_type": "execute_result",
          "data": {
            "text/plain": [
              "1"
            ]
          },
          "metadata": {},
          "execution_count": 33
        }
      ]
    },
    {
      "cell_type": "code",
      "source": [
        "d.shape"
      ],
      "metadata": {
        "colab": {
          "base_uri": "https://localhost:8080/"
        },
        "id": "tZWy1O8FtGtu",
        "outputId": "1ddd68e0-1a7d-4477-aedc-ccfa1731d71b"
      },
      "execution_count": null,
      "outputs": [
        {
          "output_type": "execute_result",
          "data": {
            "text/plain": [
              "(6,)"
            ]
          },
          "metadata": {},
          "execution_count": 34
        }
      ]
    },
    {
      "cell_type": "code",
      "source": [
        "d.size"
      ],
      "metadata": {
        "colab": {
          "base_uri": "https://localhost:8080/"
        },
        "id": "fAt7nAyXtGlG",
        "outputId": "d56046bc-b981-4f4f-88db-41e853a29e07"
      },
      "execution_count": null,
      "outputs": [
        {
          "output_type": "execute_result",
          "data": {
            "text/plain": [
              "6"
            ]
          },
          "metadata": {},
          "execution_count": 35
        }
      ]
    },
    {
      "cell_type": "code",
      "source": [
        "s=[[4,8,90,12],[56,78,54,20],[67,89,50,49],[77,88,22,55],[90,40,70,60]]\n",
        "s"
      ],
      "metadata": {
        "colab": {
          "base_uri": "https://localhost:8080/"
        },
        "id": "BM18wRg1lp9-",
        "outputId": "48f0b2b2-dbbe-40f1-a33b-fe6e0246e373"
      },
      "execution_count": null,
      "outputs": [
        {
          "output_type": "execute_result",
          "data": {
            "text/plain": [
              "[[4, 8, 90, 12],\n",
              " [56, 78, 54, 20],\n",
              " [67, 89, 50, 49],\n",
              " [77, 88, 22, 55],\n",
              " [90, 40, 70, 60]]"
            ]
          },
          "metadata": {},
          "execution_count": 14
        }
      ]
    },
    {
      "cell_type": "code",
      "source": [
        "type(s)"
      ],
      "metadata": {
        "colab": {
          "base_uri": "https://localhost:8080/"
        },
        "id": "V9Mh1VdVnKEO",
        "outputId": "7c331d91-0485-4868-f90d-37d4c5d211be"
      },
      "execution_count": null,
      "outputs": [
        {
          "output_type": "execute_result",
          "data": {
            "text/plain": [
              "list"
            ]
          },
          "metadata": {},
          "execution_count": 15
        }
      ]
    },
    {
      "cell_type": "code",
      "source": [
        "arr1=np.array(s)\n",
        "arr1"
      ],
      "metadata": {
        "colab": {
          "base_uri": "https://localhost:8080/"
        },
        "id": "dDJCuHymnMXG",
        "outputId": "acbcf159-cb5f-42d9-85ec-428d0963a79f"
      },
      "execution_count": null,
      "outputs": [
        {
          "output_type": "execute_result",
          "data": {
            "text/plain": [
              "array([[ 4,  8, 90, 12],\n",
              "       [56, 78, 54, 20],\n",
              "       [67, 89, 50, 49],\n",
              "       [77, 88, 22, 55],\n",
              "       [90, 40, 70, 60]])"
            ]
          },
          "metadata": {},
          "execution_count": 16
        }
      ]
    },
    {
      "cell_type": "code",
      "source": [
        "arr1.shape"
      ],
      "metadata": {
        "colab": {
          "base_uri": "https://localhost:8080/"
        },
        "id": "BTU2OMGsobQu",
        "outputId": "191fd7d0-8064-4661-f49d-532bd688fae3"
      },
      "execution_count": null,
      "outputs": [
        {
          "output_type": "execute_result",
          "data": {
            "text/plain": [
              "(5, 4)"
            ]
          },
          "metadata": {},
          "execution_count": 17
        }
      ]
    },
    {
      "cell_type": "code",
      "source": [
        "arr1.size"
      ],
      "metadata": {
        "colab": {
          "base_uri": "https://localhost:8080/"
        },
        "id": "b1ZN-lcOoc6m",
        "outputId": "26fadda2-9c97-41c3-e2cb-125729af8585"
      },
      "execution_count": null,
      "outputs": [
        {
          "output_type": "execute_result",
          "data": {
            "text/plain": [
              "20"
            ]
          },
          "metadata": {},
          "execution_count": 18
        }
      ]
    },
    {
      "cell_type": "code",
      "source": [
        "arr1.ndim"
      ],
      "metadata": {
        "colab": {
          "base_uri": "https://localhost:8080/"
        },
        "id": "QPoURbORoer-",
        "outputId": "b271d874-e6a7-49ac-eab6-f9730d781744"
      },
      "execution_count": null,
      "outputs": [
        {
          "output_type": "execute_result",
          "data": {
            "text/plain": [
              "2"
            ]
          },
          "metadata": {},
          "execution_count": 19
        }
      ]
    },
    {
      "cell_type": "code",
      "source": [
        "arr1"
      ],
      "metadata": {
        "colab": {
          "base_uri": "https://localhost:8080/"
        },
        "id": "aPqtySLoqDBG",
        "outputId": "83f442bf-7f37-41ce-c016-374c75e6448c"
      },
      "execution_count": null,
      "outputs": [
        {
          "output_type": "execute_result",
          "data": {
            "text/plain": [
              "array([[ 4,  8, 90, 12],\n",
              "       [56, 78, 54, 20],\n",
              "       [67, 89, 50, 49],\n",
              "       [77, 88, 22, 55],\n",
              "       [90, 40, 70, 60]])"
            ]
          },
          "metadata": {},
          "execution_count": 36
        }
      ]
    },
    {
      "cell_type": "code",
      "source": [
        "k=arr1.reshape(2,2,5)\n",
        "k"
      ],
      "metadata": {
        "colab": {
          "base_uri": "https://localhost:8080/"
        },
        "id": "r6lxv2VhtO69",
        "outputId": "b2111d3a-75e6-44e1-ba9c-72f2be08b2f2"
      },
      "execution_count": null,
      "outputs": [
        {
          "output_type": "execute_result",
          "data": {
            "text/plain": [
              "array([[[ 4,  8, 90, 12, 56],\n",
              "        [78, 54, 20, 67, 89]],\n",
              "\n",
              "       [[50, 49, 77, 88, 22],\n",
              "        [55, 90, 40, 70, 60]]])"
            ]
          },
          "metadata": {},
          "execution_count": 38
        }
      ]
    },
    {
      "cell_type": "code",
      "source": [
        "k.size"
      ],
      "metadata": {
        "colab": {
          "base_uri": "https://localhost:8080/"
        },
        "id": "ESpPtmDgtuX1",
        "outputId": "37b0a5de-4290-4d1b-cbf9-734a9357ce89"
      },
      "execution_count": null,
      "outputs": [
        {
          "output_type": "execute_result",
          "data": {
            "text/plain": [
              "20"
            ]
          },
          "metadata": {},
          "execution_count": 39
        }
      ]
    },
    {
      "cell_type": "code",
      "source": [
        "k.shape"
      ],
      "metadata": {
        "colab": {
          "base_uri": "https://localhost:8080/"
        },
        "id": "JmONPnjUt9g1",
        "outputId": "657fd44a-0379-4fea-9ba6-7925bb112660"
      },
      "execution_count": null,
      "outputs": [
        {
          "output_type": "execute_result",
          "data": {
            "text/plain": [
              "(2, 2, 5)"
            ]
          },
          "metadata": {},
          "execution_count": 40
        }
      ]
    },
    {
      "cell_type": "code",
      "source": [
        "k.ndim"
      ],
      "metadata": {
        "colab": {
          "base_uri": "https://localhost:8080/"
        },
        "id": "be6rAre2t-dl",
        "outputId": "a5a2f2e3-5681-417d-a72a-77c7bda83a9f"
      },
      "execution_count": null,
      "outputs": [
        {
          "output_type": "execute_result",
          "data": {
            "text/plain": [
              "3"
            ]
          },
          "metadata": {},
          "execution_count": 41
        }
      ]
    },
    {
      "cell_type": "code",
      "source": [
        "arr1"
      ],
      "metadata": {
        "colab": {
          "base_uri": "https://localhost:8080/"
        },
        "id": "kohmo-EPt_wU",
        "outputId": "b4f3b2d6-3b75-4d05-a6e7-6c5e100216bb"
      },
      "execution_count": null,
      "outputs": [
        {
          "output_type": "execute_result",
          "data": {
            "text/plain": [
              "array([[ 4,  8, 90, 12],\n",
              "       [56, 78, 54, 20],\n",
              "       [67, 89, 50, 49],\n",
              "       [77, 88, 22, 55],\n",
              "       [90, 40, 70, 60]])"
            ]
          },
          "metadata": {},
          "execution_count": 42
        }
      ]
    },
    {
      "cell_type": "code",
      "source": [
        "k"
      ],
      "metadata": {
        "colab": {
          "base_uri": "https://localhost:8080/"
        },
        "id": "WSd8pW_GugTF",
        "outputId": "5a84fb7f-9430-44a2-facb-1832d3da4a05"
      },
      "execution_count": null,
      "outputs": [
        {
          "output_type": "execute_result",
          "data": {
            "text/plain": [
              "array([[[ 4,  8, 90, 12, 56],\n",
              "        [78, 54, 20, 67, 89]],\n",
              "\n",
              "       [[50, 49, 77, 88, 22],\n",
              "        [55, 90, 40, 70, 60]]])"
            ]
          },
          "metadata": {},
          "execution_count": 43
        }
      ]
    },
    {
      "cell_type": "code",
      "source": [
        "y=arr1.reshape(20,)\n",
        "y"
      ],
      "metadata": {
        "colab": {
          "base_uri": "https://localhost:8080/"
        },
        "id": "bhXSbnbduj0N",
        "outputId": "798b7133-064c-40da-f7b9-96970dbeec6c"
      },
      "execution_count": null,
      "outputs": [
        {
          "output_type": "execute_result",
          "data": {
            "text/plain": [
              "array([ 4,  8, 90, 12, 56, 78, 54, 20, 67, 89, 50, 49, 77, 88, 22, 55, 90,\n",
              "       40, 70, 60])"
            ]
          },
          "metadata": {},
          "execution_count": 45
        }
      ]
    },
    {
      "cell_type": "code",
      "source": [
        "y.size"
      ],
      "metadata": {
        "colab": {
          "base_uri": "https://localhost:8080/"
        },
        "id": "rFy7uRxxuvl9",
        "outputId": "d8ab1dbd-711e-42fb-bc7d-a38619fcf949"
      },
      "execution_count": null,
      "outputs": [
        {
          "output_type": "execute_result",
          "data": {
            "text/plain": [
              "20"
            ]
          },
          "metadata": {},
          "execution_count": 46
        }
      ]
    },
    {
      "cell_type": "code",
      "source": [
        "y.ndim"
      ],
      "metadata": {
        "colab": {
          "base_uri": "https://localhost:8080/"
        },
        "id": "oXA2arEPu1fV",
        "outputId": "8613e9b3-4ad3-4937-c6a6-9a9fa8fbb040"
      },
      "execution_count": null,
      "outputs": [
        {
          "output_type": "execute_result",
          "data": {
            "text/plain": [
              "1"
            ]
          },
          "metadata": {},
          "execution_count": 47
        }
      ]
    },
    {
      "cell_type": "code",
      "source": [
        "y.shape"
      ],
      "metadata": {
        "colab": {
          "base_uri": "https://localhost:8080/"
        },
        "id": "fTwJK2VEu3Tl",
        "outputId": "a09f5a9b-352f-4da2-f50e-9b1d7f51f002"
      },
      "execution_count": null,
      "outputs": [
        {
          "output_type": "execute_result",
          "data": {
            "text/plain": [
              "(20,)"
            ]
          },
          "metadata": {},
          "execution_count": 48
        }
      ]
    },
    {
      "cell_type": "code",
      "source": [
        "z=arr1.reshape(20,1)\n",
        "z"
      ],
      "metadata": {
        "colab": {
          "base_uri": "https://localhost:8080/"
        },
        "id": "aFYPpLyFu8kV",
        "outputId": "c6f9b51e-2adf-49ca-c438-db853981737c"
      },
      "execution_count": null,
      "outputs": [
        {
          "output_type": "execute_result",
          "data": {
            "text/plain": [
              "array([[ 4],\n",
              "       [ 8],\n",
              "       [90],\n",
              "       [12],\n",
              "       [56],\n",
              "       [78],\n",
              "       [54],\n",
              "       [20],\n",
              "       [67],\n",
              "       [89],\n",
              "       [50],\n",
              "       [49],\n",
              "       [77],\n",
              "       [88],\n",
              "       [22],\n",
              "       [55],\n",
              "       [90],\n",
              "       [40],\n",
              "       [70],\n",
              "       [60]])"
            ]
          },
          "metadata": {},
          "execution_count": 49
        }
      ]
    },
    {
      "cell_type": "code",
      "source": [
        "z.ndim"
      ],
      "metadata": {
        "colab": {
          "base_uri": "https://localhost:8080/"
        },
        "id": "rUqM7rwQvIFV",
        "outputId": "057fdeb3-5cb7-4d03-b9ae-095bd06ab844"
      },
      "execution_count": null,
      "outputs": [
        {
          "output_type": "execute_result",
          "data": {
            "text/plain": [
              "2"
            ]
          },
          "metadata": {},
          "execution_count": 50
        }
      ]
    },
    {
      "cell_type": "code",
      "source": [
        "z.size"
      ],
      "metadata": {
        "colab": {
          "base_uri": "https://localhost:8080/"
        },
        "id": "9Bxd9ZnPvQVV",
        "outputId": "70e728c5-c8fc-46bd-a3a8-cbac0215f13f"
      },
      "execution_count": null,
      "outputs": [
        {
          "output_type": "execute_result",
          "data": {
            "text/plain": [
              "20"
            ]
          },
          "metadata": {},
          "execution_count": 51
        }
      ]
    },
    {
      "cell_type": "code",
      "source": [
        "z.shape"
      ],
      "metadata": {
        "colab": {
          "base_uri": "https://localhost:8080/"
        },
        "id": "7PgLqCW6vShN",
        "outputId": "2fd2c537-b5e3-4669-c0d2-242be6f4ffd6"
      },
      "execution_count": null,
      "outputs": [
        {
          "output_type": "execute_result",
          "data": {
            "text/plain": [
              "(20, 1)"
            ]
          },
          "metadata": {},
          "execution_count": 52
        }
      ]
    },
    {
      "cell_type": "code",
      "source": [
        "arr1.shape"
      ],
      "metadata": {
        "colab": {
          "base_uri": "https://localhost:8080/"
        },
        "id": "CRb5QOhQvUjV",
        "outputId": "a4674a99-bf46-4f5b-e6e0-aedb79b1ccd8"
      },
      "execution_count": null,
      "outputs": [
        {
          "output_type": "execute_result",
          "data": {
            "text/plain": [
              "(5, 4)"
            ]
          },
          "metadata": {},
          "execution_count": 54
        }
      ]
    },
    {
      "cell_type": "code",
      "source": [
        "t=arr1.reshape(2,2,5,1)\n",
        "t"
      ],
      "metadata": {
        "colab": {
          "base_uri": "https://localhost:8080/"
        },
        "id": "PV0nmzIBwkBN",
        "outputId": "ad1e0b00-d0e9-4da3-b067-b4b88e3c70f8"
      },
      "execution_count": null,
      "outputs": [
        {
          "output_type": "execute_result",
          "data": {
            "text/plain": [
              "array([[[[ 4],\n",
              "         [ 8],\n",
              "         [90],\n",
              "         [12],\n",
              "         [56]],\n",
              "\n",
              "        [[78],\n",
              "         [54],\n",
              "         [20],\n",
              "         [67],\n",
              "         [89]]],\n",
              "\n",
              "\n",
              "       [[[50],\n",
              "         [49],\n",
              "         [77],\n",
              "         [88],\n",
              "         [22]],\n",
              "\n",
              "        [[55],\n",
              "         [90],\n",
              "         [40],\n",
              "         [70],\n",
              "         [60]]]])"
            ]
          },
          "metadata": {},
          "execution_count": 57
        }
      ]
    },
    {
      "cell_type": "code",
      "source": [
        "t.ndim"
      ],
      "metadata": {
        "colab": {
          "base_uri": "https://localhost:8080/"
        },
        "id": "NLZdAP4Gw4hd",
        "outputId": "3bfca3b9-f908-4d6f-b6c2-b567920cf8a2"
      },
      "execution_count": null,
      "outputs": [
        {
          "output_type": "execute_result",
          "data": {
            "text/plain": [
              "4"
            ]
          },
          "metadata": {},
          "execution_count": 58
        }
      ]
    },
    {
      "cell_type": "code",
      "source": [
        "t.size"
      ],
      "metadata": {
        "colab": {
          "base_uri": "https://localhost:8080/"
        },
        "id": "wCvJaWVGxAdc",
        "outputId": "92a1d9a6-b338-4b06-f8a5-9ecc765b62d2"
      },
      "execution_count": null,
      "outputs": [
        {
          "output_type": "execute_result",
          "data": {
            "text/plain": [
              "20"
            ]
          },
          "metadata": {},
          "execution_count": 59
        }
      ]
    },
    {
      "cell_type": "code",
      "source": [
        "t.shape"
      ],
      "metadata": {
        "colab": {
          "base_uri": "https://localhost:8080/"
        },
        "id": "WZMFSt7dxHeE",
        "outputId": "77e61975-32ee-4ca6-c143-5e5622565e9c"
      },
      "execution_count": null,
      "outputs": [
        {
          "output_type": "execute_result",
          "data": {
            "text/plain": [
              "(2, 2, 5, 1)"
            ]
          },
          "metadata": {},
          "execution_count": 60
        }
      ]
    },
    {
      "cell_type": "code",
      "source": [
        "a=arr1.reshape(1,2,1,2,5,1)\n",
        "a"
      ],
      "metadata": {
        "colab": {
          "base_uri": "https://localhost:8080/"
        },
        "id": "7k3gTVckxI-0",
        "outputId": "0c1e75ce-b128-4fcb-e6d9-aaf74c066125"
      },
      "execution_count": null,
      "outputs": [
        {
          "output_type": "execute_result",
          "data": {
            "text/plain": [
              "array([[[[[[ 4],\n",
              "           [ 8],\n",
              "           [90],\n",
              "           [12],\n",
              "           [56]],\n",
              "\n",
              "          [[78],\n",
              "           [54],\n",
              "           [20],\n",
              "           [67],\n",
              "           [89]]]],\n",
              "\n",
              "\n",
              "\n",
              "        [[[[50],\n",
              "           [49],\n",
              "           [77],\n",
              "           [88],\n",
              "           [22]],\n",
              "\n",
              "          [[55],\n",
              "           [90],\n",
              "           [40],\n",
              "           [70],\n",
              "           [60]]]]]])"
            ]
          },
          "metadata": {},
          "execution_count": 61
        }
      ]
    },
    {
      "cell_type": "code",
      "source": [
        "range(5,20)"
      ],
      "metadata": {
        "colab": {
          "base_uri": "https://localhost:8080/"
        },
        "id": "_grEYEvFxu58",
        "outputId": "180b8fee-8df5-4f10-c27a-63defc44efbd"
      },
      "execution_count": null,
      "outputs": [
        {
          "output_type": "execute_result",
          "data": {
            "text/plain": [
              "range(5, 20)"
            ]
          },
          "metadata": {},
          "execution_count": 62
        }
      ]
    },
    {
      "cell_type": "code",
      "source": [
        "m=[3,4,5,6,7,8]\n",
        "m"
      ],
      "metadata": {
        "colab": {
          "base_uri": "https://localhost:8080/"
        },
        "id": "aFP0LuVex1Nk",
        "outputId": "1dd6efdb-9d9a-47ba-80c0-83bae7a612dc"
      },
      "execution_count": null,
      "outputs": [
        {
          "output_type": "execute_result",
          "data": {
            "text/plain": [
              "[3, 4, 5, 6, 7, 8]"
            ]
          },
          "metadata": {},
          "execution_count": 64
        }
      ]
    },
    {
      "cell_type": "code",
      "source": [
        "list(range(3,101,5))"
      ],
      "metadata": {
        "colab": {
          "base_uri": "https://localhost:8080/"
        },
        "id": "_kbFAAz5yAkk",
        "outputId": "05515e00-1c11-4570-dff0-6920a68c6d7b"
      },
      "execution_count": null,
      "outputs": [
        {
          "output_type": "execute_result",
          "data": {
            "text/plain": [
              "[3, 8, 13, 18, 23, 28, 33, 38, 43, 48, 53, 58, 63, 68, 73, 78, 83, 88, 93, 98]"
            ]
          },
          "metadata": {},
          "execution_count": 68
        }
      ]
    },
    {
      "cell_type": "code",
      "source": [
        "list(range(3,13))"
      ],
      "metadata": {
        "colab": {
          "base_uri": "https://localhost:8080/"
        },
        "id": "RGA3viOiyL9c",
        "outputId": "1e72762e-bee3-411d-cbf6-343353bc40bb"
      },
      "execution_count": null,
      "outputs": [
        {
          "output_type": "execute_result",
          "data": {
            "text/plain": [
              "[3, 4, 5, 6, 7, 8, 9, 10, 11, 12]"
            ]
          },
          "metadata": {},
          "execution_count": 66
        }
      ]
    },
    {
      "cell_type": "code",
      "source": [
        "list(range(3,13,2))"
      ],
      "metadata": {
        "colab": {
          "base_uri": "https://localhost:8080/"
        },
        "id": "Z0XMMLFVyYJE",
        "outputId": "08640326-c815-4def-8c29-3bfff2bd954d"
      },
      "execution_count": null,
      "outputs": [
        {
          "output_type": "execute_result",
          "data": {
            "text/plain": [
              "[3, 5, 7, 9, 11]"
            ]
          },
          "metadata": {},
          "execution_count": 67
        }
      ]
    },
    {
      "cell_type": "code",
      "source": [
        "tuple(range(5,506,100))"
      ],
      "metadata": {
        "colab": {
          "base_uri": "https://localhost:8080/"
        },
        "id": "AQYArLISyelc",
        "outputId": "281edc36-e7ee-49fd-f95c-ded5a8a0c601"
      },
      "execution_count": null,
      "outputs": [
        {
          "output_type": "execute_result",
          "data": {
            "text/plain": [
              "(5, 105, 205, 305, 405, 505)"
            ]
          },
          "metadata": {},
          "execution_count": 69
        }
      ]
    },
    {
      "cell_type": "code",
      "source": [
        "list(range(-10,1))"
      ],
      "metadata": {
        "colab": {
          "base_uri": "https://localhost:8080/"
        },
        "id": "srZcHNg5zFIU",
        "outputId": "c424049b-70b1-43f5-987a-2700f3bab365"
      },
      "execution_count": null,
      "outputs": [
        {
          "output_type": "execute_result",
          "data": {
            "text/plain": [
              "[-10, -9, -8, -7, -6, -5, -4, -3, -2, -1, 0]"
            ]
          },
          "metadata": {},
          "execution_count": 70
        }
      ]
    },
    {
      "cell_type": "code",
      "source": [
        "list(range(-1,-10))"
      ],
      "metadata": {
        "colab": {
          "base_uri": "https://localhost:8080/"
        },
        "id": "fyndOzGgzTkU",
        "outputId": "637aa6ff-84a4-4aae-f4c9-9ffac7082550"
      },
      "execution_count": null,
      "outputs": [
        {
          "output_type": "execute_result",
          "data": {
            "text/plain": [
              "[]"
            ]
          },
          "metadata": {},
          "execution_count": 71
        }
      ]
    },
    {
      "cell_type": "code",
      "source": [
        "list(range(-1,-11,-1))"
      ],
      "metadata": {
        "colab": {
          "base_uri": "https://localhost:8080/"
        },
        "id": "MNUbvyiKzak0",
        "outputId": "c8ec2483-a370-4999-d945-a6ea4358abdc"
      },
      "execution_count": null,
      "outputs": [
        {
          "output_type": "execute_result",
          "data": {
            "text/plain": [
              "[-1, -2, -3, -4, -5, -6, -7, -8, -9, -10]"
            ]
          },
          "metadata": {},
          "execution_count": 73
        }
      ]
    },
    {
      "cell_type": "code",
      "source": [
        "[2.5,3,3.5,4,4.5]"
      ],
      "metadata": {
        "colab": {
          "base_uri": "https://localhost:8080/"
        },
        "id": "0uLmz6wt0pz1",
        "outputId": "2cebba5e-3cd0-43a5-fa13-98a21680c3de"
      },
      "execution_count": null,
      "outputs": [
        {
          "output_type": "execute_result",
          "data": {
            "text/plain": [
              "[2.5, 3, 3.5, 4, 4.5]"
            ]
          },
          "metadata": {},
          "execution_count": 76
        }
      ]
    },
    {
      "cell_type": "code",
      "source": [
        "np.arange(2.5,5,0.5)"
      ],
      "metadata": {
        "colab": {
          "base_uri": "https://localhost:8080/"
        },
        "id": "UG2i-WBk0uE0",
        "outputId": "3758a155-4570-45fb-c4af-cec321ddfe23"
      },
      "execution_count": null,
      "outputs": [
        {
          "output_type": "execute_result",
          "data": {
            "text/plain": [
              "array([2.5, 3. , 3.5, 4. , 4.5])"
            ]
          },
          "metadata": {},
          "execution_count": 78
        }
      ]
    },
    {
      "cell_type": "code",
      "source": [
        "range(5,50,5)"
      ],
      "metadata": {
        "colab": {
          "base_uri": "https://localhost:8080/"
        },
        "id": "6-0KWJUt03BM",
        "outputId": "cddb4bb3-883e-4e05-dc4a-fbbd896e5f7a"
      },
      "execution_count": null,
      "outputs": [
        {
          "output_type": "execute_result",
          "data": {
            "text/plain": [
              "range(5, 50, 5)"
            ]
          },
          "metadata": {},
          "execution_count": 79
        }
      ]
    },
    {
      "cell_type": "code",
      "source": [
        "for i in range(5,50,5):\n",
        "    print('Data',i)"
      ],
      "metadata": {
        "colab": {
          "base_uri": "https://localhost:8080/"
        },
        "id": "eouXyzxu1e-0",
        "outputId": "cce9ca67-e995-49c3-f147-61310e45ce37"
      },
      "execution_count": null,
      "outputs": [
        {
          "output_type": "stream",
          "name": "stdout",
          "text": [
            "Data 5\n",
            "Data 10\n",
            "Data 15\n",
            "Data 20\n",
            "Data 25\n",
            "Data 30\n",
            "Data 35\n",
            "Data 40\n",
            "Data 45\n"
          ]
        }
      ]
    },
    {
      "cell_type": "code",
      "source": [
        "j=[5,87,23,46,62,84,80,45,77,33,80]\n",
        "j"
      ],
      "metadata": {
        "colab": {
          "base_uri": "https://localhost:8080/"
        },
        "id": "hsHvAY5F1nqE",
        "outputId": "0e17eb2a-0608-40f7-eeb0-1216e95f2786"
      },
      "execution_count": null,
      "outputs": [
        {
          "output_type": "execute_result",
          "data": {
            "text/plain": [
              "[5, 87, 23, 46, 62, 84, 80, 45, 77, 33, 80]"
            ]
          },
          "metadata": {},
          "execution_count": 81
        }
      ]
    },
    {
      "cell_type": "code",
      "source": [
        "y=[]\n",
        "x=[]\n",
        "for i in range(len(j)):\n",
        "  if i%2==0:\n",
        "    x.append(j[i])\n",
        "  else:\n",
        "    y.append(j[i])\n"
      ],
      "metadata": {
        "id": "0L-3GURl1xU8"
      },
      "execution_count": null,
      "outputs": []
    },
    {
      "cell_type": "code",
      "source": [
        "for i in j:\n",
        "  print(i)"
      ],
      "metadata": {
        "colab": {
          "base_uri": "https://localhost:8080/"
        },
        "id": "s8U9mm754wHE",
        "outputId": "b689c06b-442c-427f-e229-17c6e1975a04"
      },
      "execution_count": null,
      "outputs": [
        {
          "output_type": "stream",
          "name": "stdout",
          "text": [
            "5\n",
            "87\n",
            "23\n",
            "46\n",
            "62\n",
            "84\n",
            "80\n",
            "45\n",
            "77\n",
            "33\n",
            "80\n"
          ]
        }
      ]
    },
    {
      "cell_type": "code",
      "source": [
        "stud_2nd=[18,19,20,20,20,19,18,18,18,20,20]"
      ],
      "metadata": {
        "id": "EBj5LiLX5x2z"
      },
      "execution_count": 1,
      "outputs": []
    },
    {
      "cell_type": "code",
      "source": [
        "import numpy as np\n",
        "np.random.randint(18,21,(300))"
      ],
      "metadata": {
        "colab": {
          "base_uri": "https://localhost:8080/"
        },
        "id": "qyWu8jeIjiuO",
        "outputId": "6c85736d-1114-4e6a-fd96-f913b009b7cf"
      },
      "execution_count": 3,
      "outputs": [
        {
          "output_type": "execute_result",
          "data": {
            "text/plain": [
              "array([19, 18, 19, 19, 18, 18, 20, 18, 19, 18, 20, 20, 18, 19, 19, 18, 20,\n",
              "       20, 20, 20, 20, 19, 18, 20, 20, 19, 18, 18, 20, 20, 18, 18, 20, 18,\n",
              "       19, 20, 18, 18, 20, 19, 19, 20, 20, 18, 19, 18, 20, 18, 18, 18, 18,\n",
              "       18, 20, 19, 18, 20, 19, 20, 19, 19, 20, 20, 18, 19, 18, 18, 19, 19,\n",
              "       18, 18, 19, 19, 19, 20, 20, 18, 19, 20, 20, 20, 19, 19, 18, 19, 19,\n",
              "       20, 20, 19, 19, 19, 19, 19, 18, 18, 20, 18, 20, 18, 20, 20, 20, 20,\n",
              "       18, 19, 19, 19, 20, 19, 20, 18, 20, 19, 19, 20, 20, 19, 20, 19, 20,\n",
              "       18, 18, 20, 18, 20, 19, 19, 18, 18, 19, 19, 19, 19, 20, 18, 20, 18,\n",
              "       18, 19, 19, 19, 18, 18, 18, 19, 20, 19, 18, 18, 18, 18, 20, 18, 19,\n",
              "       20, 19, 19, 19, 18, 19, 20, 19, 18, 20, 19, 19, 20, 19, 18, 18, 19,\n",
              "       20, 19, 19, 18, 19, 20, 20, 20, 20, 19, 19, 20, 20, 19, 18, 18, 19,\n",
              "       18, 18, 19, 18, 19, 19, 20, 19, 20, 19, 18, 18, 19, 18, 18, 18, 18,\n",
              "       18, 18, 19, 19, 19, 18, 19, 20, 20, 18, 19, 20, 18, 19, 20, 20, 20,\n",
              "       19, 18, 19, 20, 20, 20, 19, 18, 20, 20, 20, 18, 19, 18, 19, 18, 20,\n",
              "       20, 19, 19, 20, 18, 18, 18, 19, 19, 19, 20, 20, 19, 19, 19, 19, 20,\n",
              "       20, 18, 18, 19, 18, 18, 18, 18, 20, 18, 18, 18, 18, 20, 18, 20, 20,\n",
              "       20, 20, 20, 18, 20, 19, 18, 19, 20, 18, 18, 18, 20, 20, 19, 18, 18,\n",
              "       19, 19, 19, 18, 18, 19, 18, 19, 18, 19, 19])"
            ]
          },
          "metadata": {},
          "execution_count": 3
        }
      ]
    },
    {
      "cell_type": "code",
      "source": [
        "import numpy as np\n",
        "tenth_std=np.random.randint(15,18,(1000))\n",
        "tenth_std"
      ],
      "metadata": {
        "colab": {
          "base_uri": "https://localhost:8080/"
        },
        "id": "Tw6MKVRwjsYe",
        "outputId": "068c5fc5-02f4-471a-b53f-5062693f135b"
      },
      "execution_count": 5,
      "outputs": [
        {
          "output_type": "execute_result",
          "data": {
            "text/plain": [
              "array([16, 17, 17, 16, 16, 17, 16, 16, 15, 17, 16, 15, 16, 16, 17, 16, 15,\n",
              "       17, 16, 16, 15, 17, 16, 15, 16, 15, 17, 15, 15, 15, 15, 16, 16, 17,\n",
              "       17, 15, 15, 16, 17, 15, 16, 16, 15, 15, 16, 17, 15, 16, 17, 17, 16,\n",
              "       15, 17, 15, 17, 17, 16, 15, 16, 15, 17, 17, 17, 16, 16, 16, 17, 15,\n",
              "       15, 15, 15, 16, 15, 17, 17, 16, 17, 15, 15, 17, 17, 17, 17, 16, 15,\n",
              "       15, 15, 16, 15, 16, 17, 16, 17, 15, 16, 16, 17, 16, 16, 17, 17, 17,\n",
              "       17, 17, 15, 16, 17, 16, 17, 17, 15, 17, 15, 17, 15, 17, 16, 17, 16,\n",
              "       15, 17, 16, 15, 15, 16, 16, 17, 15, 16, 15, 16, 15, 15, 17, 17, 17,\n",
              "       16, 15, 15, 15, 16, 15, 16, 16, 17, 17, 15, 16, 17, 15, 15, 15, 15,\n",
              "       17, 17, 17, 16, 16, 16, 16, 15, 15, 17, 16, 15, 16, 16, 15, 17, 15,\n",
              "       15, 15, 16, 15, 17, 17, 17, 17, 16, 16, 17, 15, 15, 16, 15, 15, 15,\n",
              "       17, 16, 16, 16, 17, 17, 17, 16, 15, 15, 15, 17, 15, 15, 16, 15, 16,\n",
              "       15, 16, 15, 16, 16, 15, 15, 17, 15, 16, 16, 15, 15, 16, 17, 15, 17,\n",
              "       15, 15, 16, 16, 16, 17, 17, 16, 16, 17, 17, 16, 17, 15, 16, 15, 17,\n",
              "       15, 16, 17, 16, 16, 15, 17, 15, 16, 16, 17, 15, 17, 17, 16, 16, 16,\n",
              "       15, 15, 15, 15, 17, 16, 17, 17, 17, 15, 16, 17, 16, 17, 15, 15, 16,\n",
              "       16, 17, 15, 15, 17, 16, 16, 15, 17, 16, 15, 15, 16, 15, 17, 17, 17,\n",
              "       17, 17, 16, 16, 17, 16, 17, 15, 16, 15, 16, 17, 15, 17, 16, 15, 15,\n",
              "       15, 16, 17, 16, 17, 15, 16, 16, 17, 16, 15, 15, 15, 15, 17, 15, 15,\n",
              "       15, 15, 16, 15, 15, 16, 15, 16, 17, 17, 16, 15, 16, 17, 15, 16, 15,\n",
              "       17, 15, 15, 16, 17, 16, 15, 15, 16, 17, 16, 17, 16, 17, 17, 16, 16,\n",
              "       17, 16, 16, 17, 17, 17, 17, 15, 16, 16, 16, 15, 16, 17, 17, 17, 15,\n",
              "       15, 17, 17, 15, 16, 16, 15, 15, 16, 15, 16, 15, 17, 15, 16, 16, 15,\n",
              "       16, 17, 16, 16, 16, 16, 15, 16, 16, 17, 16, 16, 17, 16, 17, 16, 17,\n",
              "       15, 17, 16, 17, 16, 16, 15, 15, 17, 15, 15, 17, 16, 15, 17, 15, 16,\n",
              "       16, 16, 17, 17, 16, 16, 15, 17, 17, 15, 17, 15, 16, 16, 15, 15, 15,\n",
              "       15, 15, 17, 15, 17, 17, 16, 16, 15, 17, 16, 16, 16, 16, 16, 17, 16,\n",
              "       16, 17, 15, 16, 15, 17, 15, 15, 15, 16, 17, 17, 15, 17, 15, 16, 15,\n",
              "       17, 16, 15, 16, 17, 16, 16, 15, 17, 17, 16, 17, 15, 15, 16, 15, 16,\n",
              "       15, 16, 17, 17, 17, 15, 16, 17, 16, 17, 15, 16, 16, 16, 17, 16, 15,\n",
              "       17, 15, 16, 16, 17, 17, 15, 17, 15, 17, 16, 17, 17, 15, 16, 16, 15,\n",
              "       15, 17, 16, 17, 17, 16, 15, 15, 16, 15, 15, 15, 16, 15, 16, 15, 17,\n",
              "       16, 16, 17, 15, 16, 15, 16, 15, 16, 16, 15, 15, 16, 17, 17, 16, 17,\n",
              "       16, 17, 17, 16, 16, 16, 16, 15, 16, 15, 15, 17, 15, 17, 15, 15, 16,\n",
              "       15, 15, 15, 15, 16, 17, 16, 15, 15, 15, 15, 15, 15, 17, 15, 15, 17,\n",
              "       15, 16, 17, 16, 17, 17, 16, 17, 16, 17, 17, 16, 15, 16, 16, 16, 15,\n",
              "       15, 17, 17, 17, 17, 17, 15, 16, 16, 16, 15, 15, 15, 17, 15, 17, 15,\n",
              "       16, 16, 17, 15, 17, 16, 17, 16, 15, 16, 16, 15, 16, 17, 17, 17, 15,\n",
              "       17, 16, 17, 17, 15, 16, 16, 17, 16, 15, 16, 16, 16, 15, 16, 17, 15,\n",
              "       15, 15, 16, 16, 17, 17, 16, 16, 16, 16, 15, 17, 17, 16, 15, 17, 15,\n",
              "       15, 17, 17, 15, 15, 17, 17, 15, 15, 17, 17, 17, 16, 17, 15, 15, 16,\n",
              "       16, 15, 17, 16, 15, 15, 16, 16, 15, 15, 16, 17, 17, 17, 16, 15, 17,\n",
              "       15, 17, 16, 16, 17, 16, 17, 16, 16, 17, 17, 15, 16, 15, 15, 17, 17,\n",
              "       16, 16, 16, 17, 15, 15, 15, 17, 16, 17, 17, 16, 16, 17, 15, 17, 17,\n",
              "       17, 16, 15, 16, 17, 15, 16, 15, 17, 17, 16, 15, 17, 16, 16, 17, 17,\n",
              "       17, 16, 15, 16, 17, 16, 15, 16, 17, 17, 15, 16, 17, 17, 15, 16, 15,\n",
              "       15, 15, 16, 16, 17, 15, 17, 15, 17, 15, 16, 16, 16, 15, 17, 17, 15,\n",
              "       17, 17, 16, 17, 16, 16, 15, 15, 17, 17, 17, 16, 16, 17, 17, 16, 15,\n",
              "       17, 17, 17, 16, 15, 17, 15, 15, 16, 16, 16, 16, 17, 17, 16, 15, 15,\n",
              "       17, 16, 17, 16, 15, 17, 17, 17, 16, 16, 16, 17, 15, 17, 15, 16, 17,\n",
              "       15, 15, 16, 17, 16, 17, 16, 17, 16, 16, 15, 15, 17, 17, 15, 16, 16,\n",
              "       15, 17, 17, 16, 17, 15, 15, 17, 15, 17, 15, 15, 17, 16, 15, 15, 17,\n",
              "       15, 16, 17, 15, 15, 15, 17, 16, 15, 17, 15, 16, 16, 16, 17, 16, 16,\n",
              "       15, 17, 16, 16, 15, 17, 17, 16, 17, 15, 16, 16, 17, 16, 16, 17, 16,\n",
              "       17, 15, 15, 16, 16, 17, 15, 17, 15, 16, 15, 16, 16, 16, 15, 17, 15,\n",
              "       15, 17, 17, 16, 15, 17, 17, 15, 17, 15, 15, 17, 17, 17, 16, 16, 17,\n",
              "       17, 15, 15, 16, 16, 16, 16, 15, 17, 17, 17, 16, 17, 16, 15, 15, 15,\n",
              "       16, 17, 17, 17, 16, 15, 17, 16, 17, 15, 15, 15, 15, 15, 16, 17, 17,\n",
              "       17, 17, 17, 17, 16, 17, 16, 15, 17, 15, 16, 15, 17, 16])"
            ]
          },
          "metadata": {},
          "execution_count": 5
        }
      ]
    },
    {
      "cell_type": "code",
      "source": [
        "arr=np.random.randint(20,99,(6,7))\n",
        "arr"
      ],
      "metadata": {
        "colab": {
          "base_uri": "https://localhost:8080/"
        },
        "id": "MUYEsJLGkLlP",
        "outputId": "d9be8c54-a8ee-40cd-c0de-78f0f4a18e62"
      },
      "execution_count": 6,
      "outputs": [
        {
          "output_type": "execute_result",
          "data": {
            "text/plain": [
              "array([[70, 94, 28, 35, 25, 36, 50],\n",
              "       [39, 64, 73, 38, 72, 92, 55],\n",
              "       [93, 88, 43, 54, 37, 95, 48],\n",
              "       [40, 91, 96, 82, 52, 85, 92],\n",
              "       [55, 87, 98, 80, 59, 23, 41],\n",
              "       [75, 76, 95, 48, 75, 85, 27]])"
            ]
          },
          "metadata": {},
          "execution_count": 6
        }
      ]
    },
    {
      "cell_type": "code",
      "source": [
        "import numpy as np"
      ],
      "metadata": {
        "id": "iH4YfO7ykUNW"
      },
      "execution_count": 7,
      "outputs": []
    },
    {
      "cell_type": "code",
      "source": [
        "arr=np.random.randint(20,99,(6,7))\n",
        "arr"
      ],
      "metadata": {
        "colab": {
          "base_uri": "https://localhost:8080/"
        },
        "id": "JiXcmZhskUGA",
        "outputId": "3441dd1e-7861-4e20-ab44-7103af6fef95"
      },
      "execution_count": 8,
      "outputs": [
        {
          "output_type": "execute_result",
          "data": {
            "text/plain": [
              "array([[31, 67, 28, 88, 30, 47, 75],\n",
              "       [37, 37, 96, 75, 24, 90, 83],\n",
              "       [80, 43, 53, 57, 38, 26, 34],\n",
              "       [41, 80, 59, 26, 27, 79, 24],\n",
              "       [55, 85, 78, 48, 74, 86, 53],\n",
              "       [85, 86, 53, 47, 76, 51, 24]])"
            ]
          },
          "metadata": {},
          "execution_count": 8
        }
      ]
    },
    {
      "cell_type": "code",
      "source": [
        "arr"
      ],
      "metadata": {
        "colab": {
          "base_uri": "https://localhost:8080/"
        },
        "id": "U479zLAYkUDF",
        "outputId": "5951b894-d34e-48ce-bbb2-14f0673639f8"
      },
      "execution_count": 9,
      "outputs": [
        {
          "output_type": "execute_result",
          "data": {
            "text/plain": [
              "array([[31, 67, 28, 88, 30, 47, 75],\n",
              "       [37, 37, 96, 75, 24, 90, 83],\n",
              "       [80, 43, 53, 57, 38, 26, 34],\n",
              "       [41, 80, 59, 26, 27, 79, 24],\n",
              "       [55, 85, 78, 48, 74, 86, 53],\n",
              "       [85, 86, 53, 47, 76, 51, 24]])"
            ]
          },
          "metadata": {},
          "execution_count": 9
        }
      ]
    },
    {
      "cell_type": "code",
      "source": [
        "np.random.seed(234)\n",
        "arr=np.random.randint(20,99,(6,7))"
      ],
      "metadata": {
        "id": "sZNPIEMgkT_m"
      },
      "execution_count": 10,
      "outputs": []
    },
    {
      "cell_type": "code",
      "source": [
        "arr"
      ],
      "metadata": {
        "colab": {
          "base_uri": "https://localhost:8080/"
        },
        "id": "PA-vBh7NkT2m",
        "outputId": "770e65ad-61ca-40da-cae4-7b81b7b164c9"
      },
      "execution_count": 11,
      "outputs": [
        {
          "output_type": "execute_result",
          "data": {
            "text/plain": [
              "array([[92, 51, 88, 77, 53, 23, 74],\n",
              "       [83, 87, 54, 74, 28, 59, 91],\n",
              "       [52, 79, 84, 46, 91, 43, 23],\n",
              "       [35, 65, 65, 23, 97, 93, 71],\n",
              "       [39, 40, 43, 38, 27, 35, 61],\n",
              "       [23, 93, 60, 93, 75, 43, 98]])"
            ]
          },
          "metadata": {},
          "execution_count": 11
        }
      ]
    },
    {
      "cell_type": "code",
      "source": [
        "arr[arr<40]"
      ],
      "metadata": {
        "colab": {
          "base_uri": "https://localhost:8080/"
        },
        "id": "K7CTPzuZkTw-",
        "outputId": "a99868eb-a53d-481c-abcd-61a24e5e8bf4"
      },
      "execution_count": 12,
      "outputs": [
        {
          "output_type": "execute_result",
          "data": {
            "text/plain": [
              "array([23, 28, 23, 35, 23, 39, 38, 27, 35, 23])"
            ]
          },
          "metadata": {},
          "execution_count": 12
        }
      ]
    },
    {
      "cell_type": "code",
      "source": [
        "arr.size"
      ],
      "metadata": {
        "colab": {
          "base_uri": "https://localhost:8080/"
        },
        "id": "NfXQQ0_HnECU",
        "outputId": "ae45419a-6d20-4078-bbea-f14cba0ecd04"
      },
      "execution_count": 13,
      "outputs": [
        {
          "output_type": "execute_result",
          "data": {
            "text/plain": [
              "42"
            ]
          },
          "metadata": {},
          "execution_count": 13
        }
      ]
    },
    {
      "cell_type": "code",
      "source": [
        "m=[5,20,106,8]\n",
        "m"
      ],
      "metadata": {
        "colab": {
          "base_uri": "https://localhost:8080/"
        },
        "id": "gUZDZIV6oPjs",
        "outputId": "9cbd76fb-35b9-4e08-89c9-069b69745463"
      },
      "execution_count": 38,
      "outputs": [
        {
          "output_type": "execute_result",
          "data": {
            "text/plain": [
              "[5, 20, 106, 8]"
            ]
          },
          "metadata": {},
          "execution_count": 38
        }
      ]
    },
    {
      "cell_type": "code",
      "source": [
        "h=[x**2 for x in m]\n",
        "h"
      ],
      "metadata": {
        "colab": {
          "base_uri": "https://localhost:8080/"
        },
        "id": "oTOSEMEGoU1e",
        "outputId": "822edd10-1c0d-45f4-8d99-6a8c22cfdeb1"
      },
      "execution_count": 39,
      "outputs": [
        {
          "output_type": "execute_result",
          "data": {
            "text/plain": [
              "[25, 400, 11236, 64]"
            ]
          },
          "metadata": {},
          "execution_count": 39
        }
      ]
    },
    {
      "cell_type": "code",
      "source": [
        "g=[m**2 for m in m]\n",
        "g"
      ],
      "metadata": {
        "colab": {
          "base_uri": "https://localhost:8080/"
        },
        "id": "orjt3s9bqKAd",
        "outputId": "a9e26baf-5828-4de0-b99b-8dcd3ded49a8"
      },
      "execution_count": 40,
      "outputs": [
        {
          "output_type": "execute_result",
          "data": {
            "text/plain": [
              "[25, 400, 11236, 64]"
            ]
          },
          "metadata": {},
          "execution_count": 40
        }
      ]
    },
    {
      "cell_type": "code",
      "source": [
        "for i in range(len(m)):\n",
        "  m[i]=m[i]**2\n",
        "m"
      ],
      "metadata": {
        "colab": {
          "base_uri": "https://localhost:8080/"
        },
        "id": "thHju1agqSOz",
        "outputId": "e6cdf815-58df-4994-de1b-19fd1184c891"
      },
      "execution_count": 41,
      "outputs": [
        {
          "output_type": "execute_result",
          "data": {
            "text/plain": [
              "[25, 400, 11236, 64]"
            ]
          },
          "metadata": {},
          "execution_count": 41
        }
      ]
    },
    {
      "cell_type": "code",
      "source": [
        "b=(5,20,10,6,8)\n",
        "b"
      ],
      "metadata": {
        "colab": {
          "base_uri": "https://localhost:8080/"
        },
        "id": "AWgQdZokqtQT",
        "outputId": "f47efc0a-39c5-4118-de43-a9137bfccb51"
      },
      "execution_count": 34,
      "outputs": [
        {
          "output_type": "execute_result",
          "data": {
            "text/plain": [
              "(5, 20, 10, 6, 8)"
            ]
          },
          "metadata": {},
          "execution_count": 34
        }
      ]
    },
    {
      "cell_type": "code",
      "source": [
        "b=tuple(x+5 for x in b)\n",
        "b"
      ],
      "metadata": {
        "colab": {
          "base_uri": "https://localhost:8080/"
        },
        "id": "Icl6qGuBrgqz",
        "outputId": "f155cd59-3213-4e53-ae92-c7e1d8b9ff00"
      },
      "execution_count": 35,
      "outputs": [
        {
          "output_type": "execute_result",
          "data": {
            "text/plain": [
              "(10, 25, 15, 11, 13)"
            ]
          },
          "metadata": {},
          "execution_count": 35
        }
      ]
    },
    {
      "cell_type": "code",
      "source": [
        "k=[55,25,85,75,35,45,95]\n",
        "k"
      ],
      "metadata": {
        "colab": {
          "base_uri": "https://localhost:8080/"
        },
        "id": "CYSUrNLBrnAb",
        "outputId": "8085e80a-1152-46bd-f705-e8f14484f4d9"
      },
      "execution_count": 55,
      "outputs": [
        {
          "output_type": "execute_result",
          "data": {
            "text/plain": [
              "[55, 25, 85, 75, 35, 45, 95]"
            ]
          },
          "metadata": {},
          "execution_count": 55
        }
      ]
    },
    {
      "cell_type": "code",
      "source": [
        "a=[x for x in k if x<50]\n",
        "a"
      ],
      "metadata": {
        "colab": {
          "base_uri": "https://localhost:8080/"
        },
        "id": "ViPemcRqtY9b",
        "outputId": "00c66721-e7aa-482b-95b6-2bee759a8b62"
      },
      "execution_count": 56,
      "outputs": [
        {
          "output_type": "execute_result",
          "data": {
            "text/plain": [
              "[25, 35, 45]"
            ]
          },
          "metadata": {},
          "execution_count": 56
        }
      ]
    },
    {
      "cell_type": "code",
      "source": [
        "d=[]\n",
        "for i in k:\n",
        "  if i<50:\n",
        "    d.append(i)\n",
        "d"
      ],
      "metadata": {
        "colab": {
          "base_uri": "https://localhost:8080/"
        },
        "id": "_qWp_hQmsxEb",
        "outputId": "b6334b32-060b-4ef2-ead5-c58a82fd98d2"
      },
      "execution_count": 58,
      "outputs": [
        {
          "output_type": "execute_result",
          "data": {
            "text/plain": [
              "[25, 35, 45]"
            ]
          },
          "metadata": {},
          "execution_count": 58
        }
      ]
    },
    {
      "cell_type": "code",
      "source": [
        "arr=np.random.randint(20,90,10)"
      ],
      "metadata": {
        "id": "mExUwwySs8jr"
      },
      "execution_count": 59,
      "outputs": []
    },
    {
      "cell_type": "code",
      "source": [
        "arr"
      ],
      "metadata": {
        "colab": {
          "base_uri": "https://localhost:8080/"
        },
        "id": "W79hmMedvNUi",
        "outputId": "e6d6b992-5fe0-493f-e75e-77dbb29fd792"
      },
      "execution_count": 60,
      "outputs": [
        {
          "output_type": "execute_result",
          "data": {
            "text/plain": [
              "array([20, 30, 51, 36, 78, 28, 22, 45, 47, 24])"
            ]
          },
          "metadata": {},
          "execution_count": 60
        }
      ]
    },
    {
      "cell_type": "code",
      "source": [
        "np.random.seed(5)\n",
        "arr=np.random.randint(20,90,10)"
      ],
      "metadata": {
        "id": "_ZJ--pq6vOLC"
      },
      "execution_count": 61,
      "outputs": []
    },
    {
      "cell_type": "code",
      "source": [
        "arr"
      ],
      "metadata": {
        "colab": {
          "base_uri": "https://localhost:8080/"
        },
        "id": "61Nya_OWvWSb",
        "outputId": "a6ab2992-c953-4282-b628-850438b3c88f"
      },
      "execution_count": 62,
      "outputs": [
        {
          "output_type": "execute_result",
          "data": {
            "text/plain": [
              "array([81, 36, 28, 82, 47, 50, 27, 35, 73, 47])"
            ]
          },
          "metadata": {},
          "execution_count": 62
        }
      ]
    },
    {
      "cell_type": "code",
      "source": [
        "arr+5"
      ],
      "metadata": {
        "colab": {
          "base_uri": "https://localhost:8080/"
        },
        "id": "5cmg2twLvXKi",
        "outputId": "8b9e07cd-047f-4b93-d0e0-3492ada40b91"
      },
      "execution_count": 63,
      "outputs": [
        {
          "output_type": "execute_result",
          "data": {
            "text/plain": [
              "array([86, 41, 33, 87, 52, 55, 32, 40, 78, 52])"
            ]
          },
          "metadata": {},
          "execution_count": 63
        }
      ]
    },
    {
      "cell_type": "code",
      "source": [
        "arr**2"
      ],
      "metadata": {
        "colab": {
          "base_uri": "https://localhost:8080/"
        },
        "id": "6YWm9AgiviiC",
        "outputId": "ea4710d4-5116-47b5-e32a-550fd8cd880e"
      },
      "execution_count": 65,
      "outputs": [
        {
          "output_type": "execute_result",
          "data": {
            "text/plain": [
              "array([6561, 1296,  784, 6724, 2209, 2500,  729, 1225, 5329, 2209])"
            ]
          },
          "metadata": {},
          "execution_count": 65
        }
      ]
    },
    {
      "cell_type": "code",
      "source": [
        "arr>50"
      ],
      "metadata": {
        "colab": {
          "base_uri": "https://localhost:8080/"
        },
        "id": "-k6HREIkxAZF",
        "outputId": "14802e4e-ab9e-47ae-aafb-450eabd02570"
      },
      "execution_count": 67,
      "outputs": [
        {
          "output_type": "execute_result",
          "data": {
            "text/plain": [
              "array([ True, False, False,  True, False, False, False, False,  True,\n",
              "       False])"
            ]
          },
          "metadata": {},
          "execution_count": 67
        }
      ]
    },
    {
      "cell_type": "code",
      "source": [
        "arr[arr>50]"
      ],
      "metadata": {
        "colab": {
          "base_uri": "https://localhost:8080/"
        },
        "id": "c8yDUFkav6F6",
        "outputId": "ea9306c0-28d5-4839-ff0d-dc982c1c8b73"
      },
      "execution_count": 68,
      "outputs": [
        {
          "output_type": "execute_result",
          "data": {
            "text/plain": [
              "array([81, 82, 73])"
            ]
          },
          "metadata": {},
          "execution_count": 68
        }
      ]
    },
    {
      "cell_type": "code",
      "source": [
        "arr[arr>40]"
      ],
      "metadata": {
        "colab": {
          "base_uri": "https://localhost:8080/"
        },
        "id": "JkvogFFhxHIR",
        "outputId": "21679bc1-b260-4b74-ba49-f348d8095e1d"
      },
      "execution_count": 69,
      "outputs": [
        {
          "output_type": "execute_result",
          "data": {
            "text/plain": [
              "array([81, 82, 47, 50, 73, 47])"
            ]
          },
          "metadata": {},
          "execution_count": 69
        }
      ]
    },
    {
      "cell_type": "code",
      "source": [
        "arr[arr==40]"
      ],
      "metadata": {
        "colab": {
          "base_uri": "https://localhost:8080/"
        },
        "id": "VRJC5TQNxJJR",
        "outputId": "9757c79d-7c41-47e3-e03b-36883e5f5ba9"
      },
      "execution_count": 70,
      "outputs": [
        {
          "output_type": "execute_result",
          "data": {
            "text/plain": [
              "array([], dtype=int64)"
            ]
          },
          "metadata": {},
          "execution_count": 70
        }
      ]
    },
    {
      "cell_type": "code",
      "source": [
        "arr[arr==50]"
      ],
      "metadata": {
        "colab": {
          "base_uri": "https://localhost:8080/"
        },
        "id": "OdpnJvsYxMKp",
        "outputId": "91218769-b1cc-4424-ed6a-766265e3819f"
      },
      "execution_count": 71,
      "outputs": [
        {
          "output_type": "execute_result",
          "data": {
            "text/plain": [
              "array([50])"
            ]
          },
          "metadata": {},
          "execution_count": 71
        }
      ]
    },
    {
      "cell_type": "code",
      "source": [],
      "metadata": {
        "id": "hDvMQ7cPxRcB"
      },
      "execution_count": null,
      "outputs": []
    }
  ]
}